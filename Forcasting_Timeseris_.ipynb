{
  "nbformat": 4,
  "nbformat_minor": 0,
  "metadata": {
    "colab": {
      "name": "Forcasting Timeseris .ipynb",
      "provenance": []
    },
    "kernelspec": {
      "display_name": "Python 3",
      "name": "python3"
    },
    "language_info": {
      "name": "python"
    }
  },
  "cells": [
    {
      "cell_type": "markdown",
      "metadata": {
        "id": "FS-785DzdtwC"
      },
      "source": [
        "Prophet is a procedure for forecasting time series data based on an additive model where non-linear trends are fit with yearly, weekly, and daily seasonality, plus holiday effects. It works best with time series that have strong seasonal effects and several seasons of historical data. Prophet is robust to missing data and shifts in the trend, and typically handles outliers well."
      ]
    },
    {
      "cell_type": "markdown",
      "metadata": {
        "id": "6e23o7ulKk8T"
      },
      "source": [
        "Install module fbpropet "
      ]
    },
    {
      "cell_type": "code",
      "metadata": {
        "colab": {
          "base_uri": "https://localhost:8080/"
        },
        "id": "TsM4InxmdlTU",
        "outputId": "e109091b-a5b2-4df6-82a4-e67604f483dd"
      },
      "source": [
        "!pip install pystan fbprophet"
      ],
      "execution_count": 96,
      "outputs": [
        {
          "output_type": "stream",
          "text": [
            "Requirement already satisfied: pystan in /usr/local/lib/python3.7/dist-packages (2.19.1.1)\n",
            "Requirement already satisfied: fbprophet in /usr/local/lib/python3.7/dist-packages (0.7.1)\n",
            "Requirement already satisfied: Cython!=0.25.1,>=0.22 in /usr/local/lib/python3.7/dist-packages (from pystan) (0.29.23)\n",
            "Requirement already satisfied: numpy>=1.7 in /usr/local/lib/python3.7/dist-packages (from pystan) (1.19.5)\n",
            "Requirement already satisfied: cmdstanpy==0.9.5 in /usr/local/lib/python3.7/dist-packages (from fbprophet) (0.9.5)\n",
            "Requirement already satisfied: pandas>=1.0.4 in /usr/local/lib/python3.7/dist-packages (from fbprophet) (1.1.5)\n",
            "Requirement already satisfied: matplotlib>=2.0.0 in /usr/local/lib/python3.7/dist-packages (from fbprophet) (3.2.2)\n",
            "Requirement already satisfied: LunarCalendar>=0.0.9 in /usr/local/lib/python3.7/dist-packages (from fbprophet) (0.0.9)\n",
            "Requirement already satisfied: convertdate>=2.1.2 in /usr/local/lib/python3.7/dist-packages (from fbprophet) (2.3.2)\n",
            "Requirement already satisfied: holidays>=0.10.2 in /usr/local/lib/python3.7/dist-packages (from fbprophet) (0.10.5.2)\n",
            "Requirement already satisfied: setuptools-git>=1.2 in /usr/local/lib/python3.7/dist-packages (from fbprophet) (1.2)\n",
            "Requirement already satisfied: python-dateutil>=2.8.0 in /usr/local/lib/python3.7/dist-packages (from fbprophet) (2.8.1)\n",
            "Requirement already satisfied: tqdm>=4.36.1 in /usr/local/lib/python3.7/dist-packages (from fbprophet) (4.41.1)\n",
            "Requirement already satisfied: pytz>=2014.10 in /usr/local/lib/python3.7/dist-packages (from convertdate>=2.1.2->fbprophet) (2018.9)\n",
            "Requirement already satisfied: pymeeus<=1,>=0.3.13 in /usr/local/lib/python3.7/dist-packages (from convertdate>=2.1.2->fbprophet) (0.5.11)\n",
            "Requirement already satisfied: korean-lunar-calendar in /usr/local/lib/python3.7/dist-packages (from holidays>=0.10.2->fbprophet) (0.2.1)\n",
            "Requirement already satisfied: hijri-converter in /usr/local/lib/python3.7/dist-packages (from holidays>=0.10.2->fbprophet) (2.1.3)\n",
            "Requirement already satisfied: six in /usr/local/lib/python3.7/dist-packages (from holidays>=0.10.2->fbprophet) (1.15.0)\n",
            "Requirement already satisfied: ephem>=3.7.5.3 in /usr/local/lib/python3.7/dist-packages (from LunarCalendar>=0.0.9->fbprophet) (4.0.0.2)\n",
            "Requirement already satisfied: kiwisolver>=1.0.1 in /usr/local/lib/python3.7/dist-packages (from matplotlib>=2.0.0->fbprophet) (1.3.1)\n",
            "Requirement already satisfied: pyparsing!=2.0.4,!=2.1.2,!=2.1.6,>=2.0.1 in /usr/local/lib/python3.7/dist-packages (from matplotlib>=2.0.0->fbprophet) (2.4.7)\n",
            "Requirement already satisfied: cycler>=0.10 in /usr/local/lib/python3.7/dist-packages (from matplotlib>=2.0.0->fbprophet) (0.10.0)\n"
          ],
          "name": "stdout"
        }
      ]
    },
    {
      "cell_type": "code",
      "metadata": {
        "id": "BKm5YwmnMdCh"
      },
      "source": [
        "import pandas as pd\n",
        "from fbprophet import Prophet"
      ],
      "execution_count": 97,
      "outputs": []
    },
    {
      "cell_type": "code",
      "metadata": {
        "id": "CuqGQOfLKyXE"
      },
      "source": [
        "df = pd.read_csv('Dataset.csv')"
      ],
      "execution_count": 98,
      "outputs": []
    },
    {
      "cell_type": "code",
      "metadata": {
        "colab": {
          "base_uri": "https://localhost:8080/",
          "height": 200
        },
        "id": "UhysXMJtm-Ox",
        "outputId": "380fe5ca-fc87-47dc-80a3-790ceaa74bbb"
      },
      "source": [
        "df.head()"
      ],
      "execution_count": 99,
      "outputs": [
        {
          "output_type": "execute_result",
          "data": {
            "text/html": [
              "<div>\n",
              "<style scoped>\n",
              "    .dataframe tbody tr th:only-of-type {\n",
              "        vertical-align: middle;\n",
              "    }\n",
              "\n",
              "    .dataframe tbody tr th {\n",
              "        vertical-align: top;\n",
              "    }\n",
              "\n",
              "    .dataframe thead th {\n",
              "        text-align: right;\n",
              "    }\n",
              "</style>\n",
              "<table border=\"1\" class=\"dataframe\">\n",
              "  <thead>\n",
              "    <tr style=\"text-align: right;\">\n",
              "      <th></th>\n",
              "      <th>Time Date</th>\n",
              "      <th>Product</th>\n",
              "      <th>Store</th>\n",
              "      <th>Value</th>\n",
              "    </tr>\n",
              "  </thead>\n",
              "  <tbody>\n",
              "    <tr>\n",
              "      <th>0</th>\n",
              "      <td>1012018</td>\n",
              "      <td>2667437</td>\n",
              "      <td>QLD_CW_ST0203</td>\n",
              "      <td>2926.000</td>\n",
              "    </tr>\n",
              "    <tr>\n",
              "      <th>1</th>\n",
              "      <td>2012018</td>\n",
              "      <td>2667437</td>\n",
              "      <td>QLD_CW_ST0203</td>\n",
              "      <td>2687.531</td>\n",
              "    </tr>\n",
              "    <tr>\n",
              "      <th>2</th>\n",
              "      <td>3012018</td>\n",
              "      <td>2667437</td>\n",
              "      <td>QLD_CW_ST0203</td>\n",
              "      <td>2793.000</td>\n",
              "    </tr>\n",
              "    <tr>\n",
              "      <th>3</th>\n",
              "      <td>4012018</td>\n",
              "      <td>2667437</td>\n",
              "      <td>QLD_CW_ST0203</td>\n",
              "      <td>2394.000</td>\n",
              "    </tr>\n",
              "    <tr>\n",
              "      <th>4</th>\n",
              "      <td>5012018</td>\n",
              "      <td>2667437</td>\n",
              "      <td>QLD_CW_ST0203</td>\n",
              "      <td>2660.000</td>\n",
              "    </tr>\n",
              "  </tbody>\n",
              "</table>\n",
              "</div>"
            ],
            "text/plain": [
              "   Time Date  Product          Store     Value\n",
              "0    1012018  2667437  QLD_CW_ST0203  2926.000\n",
              "1    2012018  2667437  QLD_CW_ST0203  2687.531\n",
              "2    3012018  2667437  QLD_CW_ST0203  2793.000\n",
              "3    4012018  2667437  QLD_CW_ST0203  2394.000\n",
              "4    5012018  2667437  QLD_CW_ST0203  2660.000"
            ]
          },
          "metadata": {
            "tags": []
          },
          "execution_count": 99
        }
      ]
    },
    {
      "cell_type": "code",
      "metadata": {
        "colab": {
          "base_uri": "https://localhost:8080/",
          "height": 290
        },
        "id": "6KZxOV2OorXn",
        "outputId": "f40e47cd-7780-419c-d0ed-bea68898cf5c"
      },
      "source": [
        "df.describe()"
      ],
      "execution_count": 100,
      "outputs": [
        {
          "output_type": "execute_result",
          "data": {
            "text/html": [
              "<div>\n",
              "<style scoped>\n",
              "    .dataframe tbody tr th:only-of-type {\n",
              "        vertical-align: middle;\n",
              "    }\n",
              "\n",
              "    .dataframe tbody tr th {\n",
              "        vertical-align: top;\n",
              "    }\n",
              "\n",
              "    .dataframe thead th {\n",
              "        text-align: right;\n",
              "    }\n",
              "</style>\n",
              "<table border=\"1\" class=\"dataframe\">\n",
              "  <thead>\n",
              "    <tr style=\"text-align: right;\">\n",
              "      <th></th>\n",
              "      <th>Time Date</th>\n",
              "      <th>Product</th>\n",
              "      <th>Value</th>\n",
              "    </tr>\n",
              "  </thead>\n",
              "  <tbody>\n",
              "    <tr>\n",
              "      <th>count</th>\n",
              "      <td>1.080000e+03</td>\n",
              "      <td>1080.0</td>\n",
              "      <td>1080.000000</td>\n",
              "    </tr>\n",
              "    <tr>\n",
              "      <th>mean</th>\n",
              "      <td>1.567207e+07</td>\n",
              "      <td>2667437.0</td>\n",
              "      <td>4048.117478</td>\n",
              "    </tr>\n",
              "    <tr>\n",
              "      <th>std</th>\n",
              "      <td>8.791548e+06</td>\n",
              "      <td>0.0</td>\n",
              "      <td>1439.945783</td>\n",
              "    </tr>\n",
              "    <tr>\n",
              "      <th>min</th>\n",
              "      <td>1.012018e+06</td>\n",
              "      <td>2667437.0</td>\n",
              "      <td>2042.813500</td>\n",
              "    </tr>\n",
              "    <tr>\n",
              "      <th>25%</th>\n",
              "      <td>8.069518e+06</td>\n",
              "      <td>2667437.0</td>\n",
              "      <td>2632.498599</td>\n",
              "    </tr>\n",
              "    <tr>\n",
              "      <th>50%</th>\n",
              "      <td>1.556702e+07</td>\n",
              "      <td>2667437.0</td>\n",
              "      <td>4256.000000</td>\n",
              "    </tr>\n",
              "    <tr>\n",
              "      <th>75%</th>\n",
              "      <td>2.308452e+07</td>\n",
              "      <td>2667437.0</td>\n",
              "      <td>5288.248910</td>\n",
              "    </tr>\n",
              "    <tr>\n",
              "      <th>max</th>\n",
              "      <td>3.112202e+07</td>\n",
              "      <td>2667437.0</td>\n",
              "      <td>8147.739600</td>\n",
              "    </tr>\n",
              "  </tbody>\n",
              "</table>\n",
              "</div>"
            ],
            "text/plain": [
              "          Time Date    Product        Value\n",
              "count  1.080000e+03     1080.0  1080.000000\n",
              "mean   1.567207e+07  2667437.0  4048.117478\n",
              "std    8.791548e+06        0.0  1439.945783\n",
              "min    1.012018e+06  2667437.0  2042.813500\n",
              "25%    8.069518e+06  2667437.0  2632.498599\n",
              "50%    1.556702e+07  2667437.0  4256.000000\n",
              "75%    2.308452e+07  2667437.0  5288.248910\n",
              "max    3.112202e+07  2667437.0  8147.739600"
            ]
          },
          "metadata": {
            "tags": []
          },
          "execution_count": 100
        }
      ]
    },
    {
      "cell_type": "code",
      "metadata": {
        "colab": {
          "base_uri": "https://localhost:8080/"
        },
        "id": "-z1Ok6Xuxz2G",
        "outputId": "2ee2eb44-1fc4-4e2c-8d94-3704b8c5493a"
      },
      "source": [
        "print(df['Product'].unique())\n",
        "print(df['Store'].unique())"
      ],
      "execution_count": 101,
      "outputs": [
        {
          "output_type": "stream",
          "text": [
            "[2667437]\n",
            "['QLD_CW_ST0203']\n"
          ],
          "name": "stdout"
        }
      ]
    },
    {
      "cell_type": "markdown",
      "metadata": {
        "id": "kVNKlqDmxb5T"
      },
      "source": [
        "This is **IMPORTANT** to make sure our data is single value. wether its int64 only. the data shown all for Product and Store have same value so we no need to filter any data in this two column "
      ]
    },
    {
      "cell_type": "markdown",
      "metadata": {
        "id": "WlFvTNF3yt8f"
      },
      "source": [
        "Data forecast only need two axis. X as Date, and Y as Value. "
      ]
    },
    {
      "cell_type": "markdown",
      "metadata": {
        "id": "Te8CRZz4y7Ng"
      },
      "source": [
        "Based on data, colum dates are not set properly. so we need to change this colum "
      ]
    },
    {
      "cell_type": "code",
      "metadata": {
        "colab": {
          "base_uri": "https://localhost:8080/"
        },
        "id": "9kSCamrJzFkr",
        "outputId": "9398c68a-6b16-4dd3-8c33-0e3d1e7fea34"
      },
      "source": [
        "df.dtypes"
      ],
      "execution_count": 102,
      "outputs": [
        {
          "output_type": "execute_result",
          "data": {
            "text/plain": [
              "Time Date      int64\n",
              "Product        int64\n",
              "Store         object\n",
              "Value        float64\n",
              "dtype: object"
            ]
          },
          "metadata": {
            "tags": []
          },
          "execution_count": 102
        }
      ]
    },
    {
      "cell_type": "markdown",
      "metadata": {
        "id": "zliJD4Yb0MAH"
      },
      "source": [
        "Data on column 'Time Date' need to pre-processing into data types. in order to understand this data pre processing you can see on below [link ](https://towardsdatascience.com/mastering-dates-and-timestamps-in-pandas-and-python-in-general-5b8c6edcc50c) "
      ]
    },
    {
      "cell_type": "code",
      "metadata": {
        "id": "w83nBtI40i0Q"
      },
      "source": [
        "df ['Year']= df['Time Date'].apply(lambda x: str(x)[-4:]) #Ekstrak data pada time date dengan mengambil part tahun (X-4)\n",
        "df ['Month']= df['Time Date'].apply(lambda x: str(x)[-6:-4])\n",
        "df ['Day']=df['Time Date'].apply(lambda x: str(x)[:-6])\n",
        "df['ds']=pd.DatetimeIndex(df['Year'] +'-'+df['Month']+'-'+df['Day'])"
      ],
      "execution_count": 103,
      "outputs": []
    },
    {
      "cell_type": "code",
      "metadata": {
        "colab": {
          "base_uri": "https://localhost:8080/",
          "height": 200
        },
        "id": "pPbZKJ1G27PC",
        "outputId": "15a2f58b-451a-45f2-913b-cf7a187d2a7b"
      },
      "source": [
        "df.head()"
      ],
      "execution_count": 104,
      "outputs": [
        {
          "output_type": "execute_result",
          "data": {
            "text/html": [
              "<div>\n",
              "<style scoped>\n",
              "    .dataframe tbody tr th:only-of-type {\n",
              "        vertical-align: middle;\n",
              "    }\n",
              "\n",
              "    .dataframe tbody tr th {\n",
              "        vertical-align: top;\n",
              "    }\n",
              "\n",
              "    .dataframe thead th {\n",
              "        text-align: right;\n",
              "    }\n",
              "</style>\n",
              "<table border=\"1\" class=\"dataframe\">\n",
              "  <thead>\n",
              "    <tr style=\"text-align: right;\">\n",
              "      <th></th>\n",
              "      <th>Time Date</th>\n",
              "      <th>Product</th>\n",
              "      <th>Store</th>\n",
              "      <th>Value</th>\n",
              "      <th>Year</th>\n",
              "      <th>Month</th>\n",
              "      <th>Day</th>\n",
              "      <th>ds</th>\n",
              "    </tr>\n",
              "  </thead>\n",
              "  <tbody>\n",
              "    <tr>\n",
              "      <th>0</th>\n",
              "      <td>1012018</td>\n",
              "      <td>2667437</td>\n",
              "      <td>QLD_CW_ST0203</td>\n",
              "      <td>2926.000</td>\n",
              "      <td>2018</td>\n",
              "      <td>01</td>\n",
              "      <td>1</td>\n",
              "      <td>2018-01-01</td>\n",
              "    </tr>\n",
              "    <tr>\n",
              "      <th>1</th>\n",
              "      <td>2012018</td>\n",
              "      <td>2667437</td>\n",
              "      <td>QLD_CW_ST0203</td>\n",
              "      <td>2687.531</td>\n",
              "      <td>2018</td>\n",
              "      <td>01</td>\n",
              "      <td>2</td>\n",
              "      <td>2018-01-02</td>\n",
              "    </tr>\n",
              "    <tr>\n",
              "      <th>2</th>\n",
              "      <td>3012018</td>\n",
              "      <td>2667437</td>\n",
              "      <td>QLD_CW_ST0203</td>\n",
              "      <td>2793.000</td>\n",
              "      <td>2018</td>\n",
              "      <td>01</td>\n",
              "      <td>3</td>\n",
              "      <td>2018-01-03</td>\n",
              "    </tr>\n",
              "    <tr>\n",
              "      <th>3</th>\n",
              "      <td>4012018</td>\n",
              "      <td>2667437</td>\n",
              "      <td>QLD_CW_ST0203</td>\n",
              "      <td>2394.000</td>\n",
              "      <td>2018</td>\n",
              "      <td>01</td>\n",
              "      <td>4</td>\n",
              "      <td>2018-01-04</td>\n",
              "    </tr>\n",
              "    <tr>\n",
              "      <th>4</th>\n",
              "      <td>5012018</td>\n",
              "      <td>2667437</td>\n",
              "      <td>QLD_CW_ST0203</td>\n",
              "      <td>2660.000</td>\n",
              "      <td>2018</td>\n",
              "      <td>01</td>\n",
              "      <td>5</td>\n",
              "      <td>2018-01-05</td>\n",
              "    </tr>\n",
              "  </tbody>\n",
              "</table>\n",
              "</div>"
            ],
            "text/plain": [
              "   Time Date  Product          Store     Value  Year Month Day         ds\n",
              "0    1012018  2667437  QLD_CW_ST0203  2926.000  2018    01   1 2018-01-01\n",
              "1    2012018  2667437  QLD_CW_ST0203  2687.531  2018    01   2 2018-01-02\n",
              "2    3012018  2667437  QLD_CW_ST0203  2793.000  2018    01   3 2018-01-03\n",
              "3    4012018  2667437  QLD_CW_ST0203  2394.000  2018    01   4 2018-01-04\n",
              "4    5012018  2667437  QLD_CW_ST0203  2660.000  2018    01   5 2018-01-05"
            ]
          },
          "metadata": {
            "tags": []
          },
          "execution_count": 104
        }
      ]
    },
    {
      "cell_type": "code",
      "metadata": {
        "colab": {
          "base_uri": "https://localhost:8080/"
        },
        "id": "P8vVi6NQfR55",
        "outputId": "bd951b5a-c7ba-4846-f422-05833fb3b4f6"
      },
      "source": [
        "df.dtypes"
      ],
      "execution_count": 105,
      "outputs": [
        {
          "output_type": "execute_result",
          "data": {
            "text/plain": [
              "Time Date             int64\n",
              "Product               int64\n",
              "Store                object\n",
              "Value               float64\n",
              "Year                 object\n",
              "Month                object\n",
              "Day                  object\n",
              "ds           datetime64[ns]\n",
              "dtype: object"
            ]
          },
          "metadata": {
            "tags": []
          },
          "execution_count": 105
        }
      ]
    },
    {
      "cell_type": "markdown",
      "metadata": {
        "id": "mMBzNJ8Ygc0Y"
      },
      "source": [
        "In data shown DS as date time data types. here we can continue our data pre processing. \n",
        "\n",
        "\n",
        "As we known before, we only need two variables (X and Y) to get forecasting data. X will describe as **Date** where y will describe as **Valie/Price Value** \n",
        "\n",
        "\n",
        "we will eliminate the unused column with drop funciton"
      ]
    },
    {
      "cell_type": "code",
      "metadata": {
        "colab": {
          "base_uri": "https://localhost:8080/",
          "height": 200
        },
        "id": "CmxmfVsS4QI0",
        "outputId": "527aa39a-c113-437b-f62b-9496796d0fc8"
      },
      "source": [
        "\n",
        "df.head()"
      ],
      "execution_count": 106,
      "outputs": [
        {
          "output_type": "execute_result",
          "data": {
            "text/html": [
              "<div>\n",
              "<style scoped>\n",
              "    .dataframe tbody tr th:only-of-type {\n",
              "        vertical-align: middle;\n",
              "    }\n",
              "\n",
              "    .dataframe tbody tr th {\n",
              "        vertical-align: top;\n",
              "    }\n",
              "\n",
              "    .dataframe thead th {\n",
              "        text-align: right;\n",
              "    }\n",
              "</style>\n",
              "<table border=\"1\" class=\"dataframe\">\n",
              "  <thead>\n",
              "    <tr style=\"text-align: right;\">\n",
              "      <th></th>\n",
              "      <th>Time Date</th>\n",
              "      <th>Product</th>\n",
              "      <th>Store</th>\n",
              "      <th>Value</th>\n",
              "      <th>Year</th>\n",
              "      <th>Month</th>\n",
              "      <th>Day</th>\n",
              "      <th>ds</th>\n",
              "    </tr>\n",
              "  </thead>\n",
              "  <tbody>\n",
              "    <tr>\n",
              "      <th>0</th>\n",
              "      <td>1012018</td>\n",
              "      <td>2667437</td>\n",
              "      <td>QLD_CW_ST0203</td>\n",
              "      <td>2926.000</td>\n",
              "      <td>2018</td>\n",
              "      <td>01</td>\n",
              "      <td>1</td>\n",
              "      <td>2018-01-01</td>\n",
              "    </tr>\n",
              "    <tr>\n",
              "      <th>1</th>\n",
              "      <td>2012018</td>\n",
              "      <td>2667437</td>\n",
              "      <td>QLD_CW_ST0203</td>\n",
              "      <td>2687.531</td>\n",
              "      <td>2018</td>\n",
              "      <td>01</td>\n",
              "      <td>2</td>\n",
              "      <td>2018-01-02</td>\n",
              "    </tr>\n",
              "    <tr>\n",
              "      <th>2</th>\n",
              "      <td>3012018</td>\n",
              "      <td>2667437</td>\n",
              "      <td>QLD_CW_ST0203</td>\n",
              "      <td>2793.000</td>\n",
              "      <td>2018</td>\n",
              "      <td>01</td>\n",
              "      <td>3</td>\n",
              "      <td>2018-01-03</td>\n",
              "    </tr>\n",
              "    <tr>\n",
              "      <th>3</th>\n",
              "      <td>4012018</td>\n",
              "      <td>2667437</td>\n",
              "      <td>QLD_CW_ST0203</td>\n",
              "      <td>2394.000</td>\n",
              "      <td>2018</td>\n",
              "      <td>01</td>\n",
              "      <td>4</td>\n",
              "      <td>2018-01-04</td>\n",
              "    </tr>\n",
              "    <tr>\n",
              "      <th>4</th>\n",
              "      <td>5012018</td>\n",
              "      <td>2667437</td>\n",
              "      <td>QLD_CW_ST0203</td>\n",
              "      <td>2660.000</td>\n",
              "      <td>2018</td>\n",
              "      <td>01</td>\n",
              "      <td>5</td>\n",
              "      <td>2018-01-05</td>\n",
              "    </tr>\n",
              "  </tbody>\n",
              "</table>\n",
              "</div>"
            ],
            "text/plain": [
              "   Time Date  Product          Store     Value  Year Month Day         ds\n",
              "0    1012018  2667437  QLD_CW_ST0203  2926.000  2018    01   1 2018-01-01\n",
              "1    2012018  2667437  QLD_CW_ST0203  2687.531  2018    01   2 2018-01-02\n",
              "2    3012018  2667437  QLD_CW_ST0203  2793.000  2018    01   3 2018-01-03\n",
              "3    4012018  2667437  QLD_CW_ST0203  2394.000  2018    01   4 2018-01-04\n",
              "4    5012018  2667437  QLD_CW_ST0203  2660.000  2018    01   5 2018-01-05"
            ]
          },
          "metadata": {
            "tags": []
          },
          "execution_count": 106
        }
      ]
    },
    {
      "cell_type": "code",
      "metadata": {
        "id": "HkZ6h6CK4wDI"
      },
      "source": [
        "df.drop(['Time Date', 'Product', 'Store', 'Year', 'Month', 'Day'], axis=1, inplace=True)\n",
        "df.columns = ['y', 'ds']"
      ],
      "execution_count": 109,
      "outputs": []
    },
    {
      "cell_type": "code",
      "metadata": {
        "colab": {
          "base_uri": "https://localhost:8080/",
          "height": 200
        },
        "id": "Gx5Vagdu4ymj",
        "outputId": "373e4c7e-a433-4ff9-b52a-6756ee15e378"
      },
      "source": [
        "df.head()"
      ],
      "execution_count": 110,
      "outputs": [
        {
          "output_type": "execute_result",
          "data": {
            "text/html": [
              "<div>\n",
              "<style scoped>\n",
              "    .dataframe tbody tr th:only-of-type {\n",
              "        vertical-align: middle;\n",
              "    }\n",
              "\n",
              "    .dataframe tbody tr th {\n",
              "        vertical-align: top;\n",
              "    }\n",
              "\n",
              "    .dataframe thead th {\n",
              "        text-align: right;\n",
              "    }\n",
              "</style>\n",
              "<table border=\"1\" class=\"dataframe\">\n",
              "  <thead>\n",
              "    <tr style=\"text-align: right;\">\n",
              "      <th></th>\n",
              "      <th>y</th>\n",
              "      <th>ds</th>\n",
              "    </tr>\n",
              "  </thead>\n",
              "  <tbody>\n",
              "    <tr>\n",
              "      <th>0</th>\n",
              "      <td>2926.000</td>\n",
              "      <td>2018-01-01</td>\n",
              "    </tr>\n",
              "    <tr>\n",
              "      <th>1</th>\n",
              "      <td>2687.531</td>\n",
              "      <td>2018-01-02</td>\n",
              "    </tr>\n",
              "    <tr>\n",
              "      <th>2</th>\n",
              "      <td>2793.000</td>\n",
              "      <td>2018-01-03</td>\n",
              "    </tr>\n",
              "    <tr>\n",
              "      <th>3</th>\n",
              "      <td>2394.000</td>\n",
              "      <td>2018-01-04</td>\n",
              "    </tr>\n",
              "    <tr>\n",
              "      <th>4</th>\n",
              "      <td>2660.000</td>\n",
              "      <td>2018-01-05</td>\n",
              "    </tr>\n",
              "  </tbody>\n",
              "</table>\n",
              "</div>"
            ],
            "text/plain": [
              "          y         ds\n",
              "0  2926.000 2018-01-01\n",
              "1  2687.531 2018-01-02\n",
              "2  2793.000 2018-01-03\n",
              "3  2394.000 2018-01-04\n",
              "4  2660.000 2018-01-05"
            ]
          },
          "metadata": {
            "tags": []
          },
          "execution_count": 110
        }
      ]
    },
    {
      "cell_type": "markdown",
      "metadata": {
        "id": "eoVIiYeH5RBj"
      },
      "source": [
        "Now we are ready to train our data into Model "
      ]
    },
    {
      "cell_type": "code",
      "metadata": {
        "id": "NUXNu1he5Wng"
      },
      "source": [
        "m = Prophet(interval_width=0.95, daily_seasonality=True)\n",
        "model = m.fit(df)"
      ],
      "execution_count": 111,
      "outputs": []
    },
    {
      "cell_type": "markdown",
      "metadata": {
        "id": "uBP3a4ZC7Swo"
      },
      "source": [
        "FORECASTING PREDICTION"
      ]
    },
    {
      "cell_type": "code",
      "metadata": {
        "colab": {
          "base_uri": "https://localhost:8080/",
          "height": 301
        },
        "id": "6PtevrYG7Vol",
        "outputId": "f4a2218d-b4b6-4fea-8128-7cfe52e53684"
      },
      "source": [
        "future = m.make_future_dataframe(periods=100, freq='D')\n",
        "forecast = m.predict(future)\n",
        "forecast.head()"
      ],
      "execution_count": 112,
      "outputs": [
        {
          "output_type": "execute_result",
          "data": {
            "text/html": [
              "<div>\n",
              "<style scoped>\n",
              "    .dataframe tbody tr th:only-of-type {\n",
              "        vertical-align: middle;\n",
              "    }\n",
              "\n",
              "    .dataframe tbody tr th {\n",
              "        vertical-align: top;\n",
              "    }\n",
              "\n",
              "    .dataframe thead th {\n",
              "        text-align: right;\n",
              "    }\n",
              "</style>\n",
              "<table border=\"1\" class=\"dataframe\">\n",
              "  <thead>\n",
              "    <tr style=\"text-align: right;\">\n",
              "      <th></th>\n",
              "      <th>ds</th>\n",
              "      <th>trend</th>\n",
              "      <th>yhat_lower</th>\n",
              "      <th>yhat_upper</th>\n",
              "      <th>trend_lower</th>\n",
              "      <th>trend_upper</th>\n",
              "      <th>additive_terms</th>\n",
              "      <th>additive_terms_lower</th>\n",
              "      <th>additive_terms_upper</th>\n",
              "      <th>daily</th>\n",
              "      <th>daily_lower</th>\n",
              "      <th>daily_upper</th>\n",
              "      <th>weekly</th>\n",
              "      <th>weekly_lower</th>\n",
              "      <th>weekly_upper</th>\n",
              "      <th>yearly</th>\n",
              "      <th>yearly_lower</th>\n",
              "      <th>yearly_upper</th>\n",
              "      <th>multiplicative_terms</th>\n",
              "      <th>multiplicative_terms_lower</th>\n",
              "      <th>multiplicative_terms_upper</th>\n",
              "      <th>yhat</th>\n",
              "    </tr>\n",
              "  </thead>\n",
              "  <tbody>\n",
              "    <tr>\n",
              "      <th>0</th>\n",
              "      <td>2018-01-01</td>\n",
              "      <td>3041.650969</td>\n",
              "      <td>892.222745</td>\n",
              "      <td>3967.147290</td>\n",
              "      <td>3041.650969</td>\n",
              "      <td>3041.650969</td>\n",
              "      <td>-640.901196</td>\n",
              "      <td>-640.901196</td>\n",
              "      <td>-640.901196</td>\n",
              "      <td>468.456246</td>\n",
              "      <td>468.456246</td>\n",
              "      <td>468.456246</td>\n",
              "      <td>16.659618</td>\n",
              "      <td>16.659618</td>\n",
              "      <td>16.659618</td>\n",
              "      <td>-1126.017060</td>\n",
              "      <td>-1126.017060</td>\n",
              "      <td>-1126.017060</td>\n",
              "      <td>0.0</td>\n",
              "      <td>0.0</td>\n",
              "      <td>0.0</td>\n",
              "      <td>2400.749773</td>\n",
              "    </tr>\n",
              "    <tr>\n",
              "      <th>1</th>\n",
              "      <td>2018-01-02</td>\n",
              "      <td>3042.411286</td>\n",
              "      <td>817.655061</td>\n",
              "      <td>4021.007471</td>\n",
              "      <td>3042.411286</td>\n",
              "      <td>3042.411286</td>\n",
              "      <td>-651.011594</td>\n",
              "      <td>-651.011594</td>\n",
              "      <td>-651.011594</td>\n",
              "      <td>468.456246</td>\n",
              "      <td>468.456246</td>\n",
              "      <td>468.456246</td>\n",
              "      <td>-11.261861</td>\n",
              "      <td>-11.261861</td>\n",
              "      <td>-11.261861</td>\n",
              "      <td>-1108.205979</td>\n",
              "      <td>-1108.205979</td>\n",
              "      <td>-1108.205979</td>\n",
              "      <td>0.0</td>\n",
              "      <td>0.0</td>\n",
              "      <td>0.0</td>\n",
              "      <td>2391.399692</td>\n",
              "    </tr>\n",
              "    <tr>\n",
              "      <th>2</th>\n",
              "      <td>2018-01-03</td>\n",
              "      <td>3043.171603</td>\n",
              "      <td>910.910141</td>\n",
              "      <td>4018.358248</td>\n",
              "      <td>3043.171603</td>\n",
              "      <td>3043.171603</td>\n",
              "      <td>-625.159988</td>\n",
              "      <td>-625.159988</td>\n",
              "      <td>-625.159988</td>\n",
              "      <td>468.456246</td>\n",
              "      <td>468.456246</td>\n",
              "      <td>468.456246</td>\n",
              "      <td>-4.408938</td>\n",
              "      <td>-4.408938</td>\n",
              "      <td>-4.408938</td>\n",
              "      <td>-1089.207297</td>\n",
              "      <td>-1089.207297</td>\n",
              "      <td>-1089.207297</td>\n",
              "      <td>0.0</td>\n",
              "      <td>0.0</td>\n",
              "      <td>0.0</td>\n",
              "      <td>2418.011616</td>\n",
              "    </tr>\n",
              "    <tr>\n",
              "      <th>3</th>\n",
              "      <td>2018-01-04</td>\n",
              "      <td>3043.931921</td>\n",
              "      <td>768.068309</td>\n",
              "      <td>4013.865559</td>\n",
              "      <td>3043.931921</td>\n",
              "      <td>3043.931921</td>\n",
              "      <td>-578.115568</td>\n",
              "      <td>-578.115568</td>\n",
              "      <td>-578.115568</td>\n",
              "      <td>468.456246</td>\n",
              "      <td>468.456246</td>\n",
              "      <td>468.456246</td>\n",
              "      <td>22.525682</td>\n",
              "      <td>22.525682</td>\n",
              "      <td>22.525682</td>\n",
              "      <td>-1069.097497</td>\n",
              "      <td>-1069.097497</td>\n",
              "      <td>-1069.097497</td>\n",
              "      <td>0.0</td>\n",
              "      <td>0.0</td>\n",
              "      <td>0.0</td>\n",
              "      <td>2465.816352</td>\n",
              "    </tr>\n",
              "    <tr>\n",
              "      <th>4</th>\n",
              "      <td>2018-01-05</td>\n",
              "      <td>3044.692238</td>\n",
              "      <td>782.072959</td>\n",
              "      <td>4051.778217</td>\n",
              "      <td>3044.692238</td>\n",
              "      <td>3044.692238</td>\n",
              "      <td>-614.107141</td>\n",
              "      <td>-614.107141</td>\n",
              "      <td>-614.107141</td>\n",
              "      <td>468.456246</td>\n",
              "      <td>468.456246</td>\n",
              "      <td>468.456246</td>\n",
              "      <td>-34.557511</td>\n",
              "      <td>-34.557511</td>\n",
              "      <td>-34.557511</td>\n",
              "      <td>-1048.005877</td>\n",
              "      <td>-1048.005877</td>\n",
              "      <td>-1048.005877</td>\n",
              "      <td>0.0</td>\n",
              "      <td>0.0</td>\n",
              "      <td>0.0</td>\n",
              "      <td>2430.585097</td>\n",
              "    </tr>\n",
              "  </tbody>\n",
              "</table>\n",
              "</div>"
            ],
            "text/plain": [
              "          ds        trend  ...  multiplicative_terms_upper         yhat\n",
              "0 2018-01-01  3041.650969  ...                         0.0  2400.749773\n",
              "1 2018-01-02  3042.411286  ...                         0.0  2391.399692\n",
              "2 2018-01-03  3043.171603  ...                         0.0  2418.011616\n",
              "3 2018-01-04  3043.931921  ...                         0.0  2465.816352\n",
              "4 2018-01-05  3044.692238  ...                         0.0  2430.585097\n",
              "\n",
              "[5 rows x 22 columns]"
            ]
          },
          "metadata": {
            "tags": []
          },
          "execution_count": 112
        }
      ]
    },
    {
      "cell_type": "code",
      "metadata": {
        "colab": {
          "base_uri": "https://localhost:8080/",
          "height": 301
        },
        "id": "xPf_FliU8a6R",
        "outputId": "67bb2245-f68c-4c21-82ac-05738ea989f3"
      },
      "source": [
        "forecast.tail()"
      ],
      "execution_count": 113,
      "outputs": [
        {
          "output_type": "execute_result",
          "data": {
            "text/html": [
              "<div>\n",
              "<style scoped>\n",
              "    .dataframe tbody tr th:only-of-type {\n",
              "        vertical-align: middle;\n",
              "    }\n",
              "\n",
              "    .dataframe tbody tr th {\n",
              "        vertical-align: top;\n",
              "    }\n",
              "\n",
              "    .dataframe thead th {\n",
              "        text-align: right;\n",
              "    }\n",
              "</style>\n",
              "<table border=\"1\" class=\"dataframe\">\n",
              "  <thead>\n",
              "    <tr style=\"text-align: right;\">\n",
              "      <th></th>\n",
              "      <th>ds</th>\n",
              "      <th>trend</th>\n",
              "      <th>yhat_lower</th>\n",
              "      <th>yhat_upper</th>\n",
              "      <th>trend_lower</th>\n",
              "      <th>trend_upper</th>\n",
              "      <th>additive_terms</th>\n",
              "      <th>additive_terms_lower</th>\n",
              "      <th>additive_terms_upper</th>\n",
              "      <th>daily</th>\n",
              "      <th>daily_lower</th>\n",
              "      <th>daily_upper</th>\n",
              "      <th>weekly</th>\n",
              "      <th>weekly_lower</th>\n",
              "      <th>weekly_upper</th>\n",
              "      <th>yearly</th>\n",
              "      <th>yearly_lower</th>\n",
              "      <th>yearly_upper</th>\n",
              "      <th>multiplicative_terms</th>\n",
              "      <th>multiplicative_terms_lower</th>\n",
              "      <th>multiplicative_terms_upper</th>\n",
              "      <th>yhat</th>\n",
              "    </tr>\n",
              "  </thead>\n",
              "  <tbody>\n",
              "    <tr>\n",
              "      <th>1175</th>\n",
              "      <td>2021-03-22</td>\n",
              "      <td>4241.406743</td>\n",
              "      <td>2105.791591</td>\n",
              "      <td>5370.639268</td>\n",
              "      <td>4237.781057</td>\n",
              "      <td>4244.784211</td>\n",
              "      <td>-513.670394</td>\n",
              "      <td>-513.670394</td>\n",
              "      <td>-513.670394</td>\n",
              "      <td>468.456246</td>\n",
              "      <td>468.456246</td>\n",
              "      <td>468.456246</td>\n",
              "      <td>16.659618</td>\n",
              "      <td>16.659618</td>\n",
              "      <td>16.659618</td>\n",
              "      <td>-998.786258</td>\n",
              "      <td>-998.786258</td>\n",
              "      <td>-998.786258</td>\n",
              "      <td>0.0</td>\n",
              "      <td>0.0</td>\n",
              "      <td>0.0</td>\n",
              "      <td>3727.736349</td>\n",
              "    </tr>\n",
              "    <tr>\n",
              "      <th>1176</th>\n",
              "      <td>2021-03-23</td>\n",
              "      <td>4242.490260</td>\n",
              "      <td>2231.240842</td>\n",
              "      <td>5237.616677</td>\n",
              "      <td>4238.820613</td>\n",
              "      <td>4245.916374</td>\n",
              "      <td>-531.142033</td>\n",
              "      <td>-531.142033</td>\n",
              "      <td>-531.142033</td>\n",
              "      <td>468.456246</td>\n",
              "      <td>468.456246</td>\n",
              "      <td>468.456246</td>\n",
              "      <td>-11.261861</td>\n",
              "      <td>-11.261861</td>\n",
              "      <td>-11.261861</td>\n",
              "      <td>-988.336418</td>\n",
              "      <td>-988.336418</td>\n",
              "      <td>-988.336418</td>\n",
              "      <td>0.0</td>\n",
              "      <td>0.0</td>\n",
              "      <td>0.0</td>\n",
              "      <td>3711.348228</td>\n",
              "    </tr>\n",
              "    <tr>\n",
              "      <th>1177</th>\n",
              "      <td>2021-03-24</td>\n",
              "      <td>4243.573777</td>\n",
              "      <td>2173.179700</td>\n",
              "      <td>5341.413850</td>\n",
              "      <td>4239.850532</td>\n",
              "      <td>4247.064305</td>\n",
              "      <td>-516.617783</td>\n",
              "      <td>-516.617783</td>\n",
              "      <td>-516.617783</td>\n",
              "      <td>468.456246</td>\n",
              "      <td>468.456246</td>\n",
              "      <td>468.456246</td>\n",
              "      <td>-4.408938</td>\n",
              "      <td>-4.408938</td>\n",
              "      <td>-4.408938</td>\n",
              "      <td>-980.665092</td>\n",
              "      <td>-980.665092</td>\n",
              "      <td>-980.665092</td>\n",
              "      <td>0.0</td>\n",
              "      <td>0.0</td>\n",
              "      <td>0.0</td>\n",
              "      <td>3726.955994</td>\n",
              "    </tr>\n",
              "    <tr>\n",
              "      <th>1178</th>\n",
              "      <td>2021-03-25</td>\n",
              "      <td>4244.657294</td>\n",
              "      <td>2049.405696</td>\n",
              "      <td>5250.301402</td>\n",
              "      <td>4240.884799</td>\n",
              "      <td>4248.174339</td>\n",
              "      <td>-485.373705</td>\n",
              "      <td>-485.373705</td>\n",
              "      <td>-485.373705</td>\n",
              "      <td>468.456246</td>\n",
              "      <td>468.456246</td>\n",
              "      <td>468.456246</td>\n",
              "      <td>22.525682</td>\n",
              "      <td>22.525682</td>\n",
              "      <td>22.525682</td>\n",
              "      <td>-976.355633</td>\n",
              "      <td>-976.355633</td>\n",
              "      <td>-976.355633</td>\n",
              "      <td>0.0</td>\n",
              "      <td>0.0</td>\n",
              "      <td>0.0</td>\n",
              "      <td>3759.283589</td>\n",
              "    </tr>\n",
              "    <tr>\n",
              "      <th>1179</th>\n",
              "      <td>2021-03-26</td>\n",
              "      <td>4245.740811</td>\n",
              "      <td>2260.444644</td>\n",
              "      <td>5274.196637</td>\n",
              "      <td>4241.919256</td>\n",
              "      <td>4249.304463</td>\n",
              "      <td>-542.007695</td>\n",
              "      <td>-542.007695</td>\n",
              "      <td>-542.007695</td>\n",
              "      <td>468.456246</td>\n",
              "      <td>468.456246</td>\n",
              "      <td>468.456246</td>\n",
              "      <td>-34.557511</td>\n",
              "      <td>-34.557511</td>\n",
              "      <td>-34.557511</td>\n",
              "      <td>-975.906431</td>\n",
              "      <td>-975.906431</td>\n",
              "      <td>-975.906431</td>\n",
              "      <td>0.0</td>\n",
              "      <td>0.0</td>\n",
              "      <td>0.0</td>\n",
              "      <td>3703.733116</td>\n",
              "    </tr>\n",
              "  </tbody>\n",
              "</table>\n",
              "</div>"
            ],
            "text/plain": [
              "             ds        trend  ...  multiplicative_terms_upper         yhat\n",
              "1175 2021-03-22  4241.406743  ...                         0.0  3727.736349\n",
              "1176 2021-03-23  4242.490260  ...                         0.0  3711.348228\n",
              "1177 2021-03-24  4243.573777  ...                         0.0  3726.955994\n",
              "1178 2021-03-25  4244.657294  ...                         0.0  3759.283589\n",
              "1179 2021-03-26  4245.740811  ...                         0.0  3703.733116\n",
              "\n",
              "[5 rows x 22 columns]"
            ]
          },
          "metadata": {
            "tags": []
          },
          "execution_count": 113
        }
      ]
    },
    {
      "cell_type": "code",
      "metadata": {
        "colab": {
          "base_uri": "https://localhost:8080/",
          "height": 408
        },
        "id": "PFRWrGLr8t8w",
        "outputId": "fd6ba6e2-2c5a-4c95-a579-1c0af386712d"
      },
      "source": [
        "forecast[['ds','yhat']]"
      ],
      "execution_count": 114,
      "outputs": [
        {
          "output_type": "execute_result",
          "data": {
            "text/html": [
              "<div>\n",
              "<style scoped>\n",
              "    .dataframe tbody tr th:only-of-type {\n",
              "        vertical-align: middle;\n",
              "    }\n",
              "\n",
              "    .dataframe tbody tr th {\n",
              "        vertical-align: top;\n",
              "    }\n",
              "\n",
              "    .dataframe thead th {\n",
              "        text-align: right;\n",
              "    }\n",
              "</style>\n",
              "<table border=\"1\" class=\"dataframe\">\n",
              "  <thead>\n",
              "    <tr style=\"text-align: right;\">\n",
              "      <th></th>\n",
              "      <th>ds</th>\n",
              "      <th>yhat</th>\n",
              "    </tr>\n",
              "  </thead>\n",
              "  <tbody>\n",
              "    <tr>\n",
              "      <th>0</th>\n",
              "      <td>2018-01-01</td>\n",
              "      <td>2400.749773</td>\n",
              "    </tr>\n",
              "    <tr>\n",
              "      <th>1</th>\n",
              "      <td>2018-01-02</td>\n",
              "      <td>2391.399692</td>\n",
              "    </tr>\n",
              "    <tr>\n",
              "      <th>2</th>\n",
              "      <td>2018-01-03</td>\n",
              "      <td>2418.011616</td>\n",
              "    </tr>\n",
              "    <tr>\n",
              "      <th>3</th>\n",
              "      <td>2018-01-04</td>\n",
              "      <td>2465.816352</td>\n",
              "    </tr>\n",
              "    <tr>\n",
              "      <th>4</th>\n",
              "      <td>2018-01-05</td>\n",
              "      <td>2430.585097</td>\n",
              "    </tr>\n",
              "    <tr>\n",
              "      <th>...</th>\n",
              "      <td>...</td>\n",
              "      <td>...</td>\n",
              "    </tr>\n",
              "    <tr>\n",
              "      <th>1175</th>\n",
              "      <td>2021-03-22</td>\n",
              "      <td>3727.736349</td>\n",
              "    </tr>\n",
              "    <tr>\n",
              "      <th>1176</th>\n",
              "      <td>2021-03-23</td>\n",
              "      <td>3711.348228</td>\n",
              "    </tr>\n",
              "    <tr>\n",
              "      <th>1177</th>\n",
              "      <td>2021-03-24</td>\n",
              "      <td>3726.955994</td>\n",
              "    </tr>\n",
              "    <tr>\n",
              "      <th>1178</th>\n",
              "      <td>2021-03-25</td>\n",
              "      <td>3759.283589</td>\n",
              "    </tr>\n",
              "    <tr>\n",
              "      <th>1179</th>\n",
              "      <td>2021-03-26</td>\n",
              "      <td>3703.733116</td>\n",
              "    </tr>\n",
              "  </tbody>\n",
              "</table>\n",
              "<p>1180 rows × 2 columns</p>\n",
              "</div>"
            ],
            "text/plain": [
              "             ds         yhat\n",
              "0    2018-01-01  2400.749773\n",
              "1    2018-01-02  2391.399692\n",
              "2    2018-01-03  2418.011616\n",
              "3    2018-01-04  2465.816352\n",
              "4    2018-01-05  2430.585097\n",
              "...         ...          ...\n",
              "1175 2021-03-22  3727.736349\n",
              "1176 2021-03-23  3711.348228\n",
              "1177 2021-03-24  3726.955994\n",
              "1178 2021-03-25  3759.283589\n",
              "1179 2021-03-26  3703.733116\n",
              "\n",
              "[1180 rows x 2 columns]"
            ]
          },
          "metadata": {
            "tags": []
          },
          "execution_count": 114
        }
      ]
    },
    {
      "cell_type": "code",
      "metadata": {
        "colab": {
          "base_uri": "https://localhost:8080/",
          "height": 441
        },
        "id": "i81d4vCz83qP",
        "outputId": "ad83ce7f-2339-4cd2-de53-1ec7c7ed9daf"
      },
      "source": [
        "plot1 = m.plot(forecast)"
      ],
      "execution_count": 115,
      "outputs": [
        {
          "output_type": "display_data",
          "data": {
            "image/png": "[encoded data removed]",
            "text/plain": [
              "<Figure size 720x432 with 1 Axes>"
            ]
          },
          "metadata": {
            "tags": []
          }
        }
      ]
    },
    {
      "cell_type": "code",
      "metadata": {
        "colab": {
          "base_uri": "https://localhost:8080/",
          "height": 872
        },
        "id": "JwiWHWj39K06",
        "outputId": "fbd106a0-e1d9-4f3b-894c-8d66ba9f618a"
      },
      "source": [
        "plot2 = m.plot_components(forecast)"
      ],
      "execution_count": 116,
      "outputs": [
        {
          "output_type": "display_data",
          "data": {
            "image/png": "[encoded data removed]",
            "text/plain": [
              "<Figure size 648x864 with 4 Axes>"
            ]
          },
          "metadata": {
            "tags": []
          }
        }
      ]
    }
  ]
}